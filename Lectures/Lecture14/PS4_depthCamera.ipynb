{
 "cells": [
  {
   "cell_type": "code",
   "execution_count": null,
   "id": "2bd9d18a",
   "metadata": {},
   "outputs": [],
   "source": []
  },
  {
   "cell_type": "markdown",
   "id": "57541a11",
   "metadata": {},
   "source": [
    "In this demo, Sam Dickerson gave me an old PS4 depth camera\n",
    "I am following the instructions here to get it to work with python\n",
    "\n",
    "https://www.instructables.com/HACK-PlayStation-4-Cam-Into-Cheap-3D-Depth-Camera-/\n",
    "\n",
    "\n"
   ]
  },
  {
   "cell_type": "code",
   "execution_count": 2,
   "id": "ea119c2d",
   "metadata": {},
   "outputs": [],
   "source": [
    "import numpy as np\n",
    "import cv2\n",
    "from matplotlib import pyplot as plt\n",
    "import time\n",
    "import os"
   ]
  },
  {
   "cell_type": "code",
   "execution_count": null,
   "id": "5e912ea6",
   "metadata": {},
   "outputs": [],
   "source": [
    "ret = np.load(os.path.relpath('PS4_depth_camera/param_ret.npy'))\n",
    "K = np.load(os.path.relpath('PS4_depth_camera/param_K.npy'))\n",
    "dist = np.load(os.path.relpath('PS4_depth_camera/param_dist.npy'))\n",
    "h,w = (800, 1264)\n",
    "new_camera_matrix, roi = cv2.getOptimalNewCameraMatrix(K,dist,(w,h),1,(w,h))\n",
    "\n",
    "mapx, mapy = cv2.initUndistortRectifyMap(K,dist, None ,new_camera_matrix,(w, h),cv2.CV_16SC2)\n"
   ]
  },
  {
   "cell_type": "code",
   "execution_count": null,
   "id": "a320aacf",
   "metadata": {},
   "outputs": [],
   "source": []
  }
 ],
 "metadata": {
  "kernelspec": {
   "display_name": "ECE1390",
   "language": "python",
   "name": "python3"
  },
  "language_info": {
   "codemirror_mode": {
    "name": "ipython",
    "version": 3
   },
   "file_extension": ".py",
   "mimetype": "text/x-python",
   "name": "python",
   "nbconvert_exporter": "python",
   "pygments_lexer": "ipython3",
   "version": "3.12.11"
  }
 },
 "nbformat": 4,
 "nbformat_minor": 5
}
